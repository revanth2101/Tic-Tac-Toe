{
 "cells": [
  {
   "cell_type": "code",
   "execution_count": 1,
   "metadata": {},
   "outputs": [],
   "source": [
    "import random\n",
    "board=[\" \" for x in range(1,11)]\n",
    "def display_board(board):\n",
    "    print(\"\\n\"*10)\n",
    "    print(board)\n",
    "    print(board[7]+\"|\"+board[8]+\"|\"+board[9])\n",
    "    print(\"-------\")\n",
    "    print(board[4]+\"|\"+board[5]+\"|\"+board[6])\n",
    "    print(\"-------\")\n",
    "    print(board[1]+\"|\"+board[2]+\"|\"+board[3])"
   ]
  },
  {
   "cell_type": "code",
   "execution_count": 2,
   "metadata": {},
   "outputs": [],
   "source": [
    "def player_input():\n",
    "    value=\" \"\n",
    "    while value!=\"X\" and value!=\"O\":\n",
    "        value=input(\"Do you want to choose X or O: \").upper()\n",
    "    if value==\"X\":\n",
    "        return(\"X\",\"O\")\n",
    "    else:\n",
    "        return(\"O\",\"X\")"
   ]
  },
  {
   "cell_type": "code",
   "execution_count": 3,
   "metadata": {},
   "outputs": [],
   "source": [
    "def place_marker(board, marker, position):\n",
    "    board[position]=marker"
   ]
  },
  {
   "cell_type": "code",
   "execution_count": 4,
   "metadata": {},
   "outputs": [],
   "source": [
    "def win_check(board, mark):\n",
    "    return(mark ==board[1] and mark==board[2] and mark==board[3]) or (mark ==board[4] and mark==board[5] and mark==board[6]) or (mark ==board[7] and mark==board[8] and mark==board[9]) or(mark ==board[1] and mark==board[4] and mark==board[7]) or (mark ==board[2] and mark==board[5] and mark==board[8]) or (mark ==board[3] and mark==board[6] and mark==board[9]) or (mark ==board[1] and mark==board[5] and mark==board[9]) or (mark ==board[3] and mark==board[5] and mark==board[7]) "
   ]
  },
  {
   "cell_type": "code",
   "execution_count": 5,
   "metadata": {},
   "outputs": [],
   "source": [
    "def choose_first():\n",
    "    print(\"Please choose the player: \")\n",
    "    p1=['Player_1','Player_2']\n",
    "    return ((random.choice(p1)))"
   ]
  },
  {
   "cell_type": "code",
   "execution_count": 6,
   "metadata": {},
   "outputs": [],
   "source": [
    "def space_check(board, position):\n",
    "    return board[position] == ' '"
   ]
  },
  {
   "cell_type": "code",
   "execution_count": 7,
   "metadata": {},
   "outputs": [],
   "source": [
    "def full_board_check(board):\n",
    "    c=0\n",
    "    for i in range(1,10):\n",
    "        if board[i]==\" \":\n",
    "            c+=1\n",
    "    if c==9:\n",
    "\n",
    "        return True\n",
    "    elif c in [1,2,3,4,5,6,7,8]:\n",
    "        return False"
   ]
  },
  {
   "cell_type": "code",
   "execution_count": 8,
   "metadata": {},
   "outputs": [],
   "source": [
    "\n",
    "def player_choice(board):\n",
    "    position = 0\n",
    "    \n",
    "    while position not in [1,2,3,4,5,6,7,8,9] or not space_check(board, position):\n",
    "        position = int(input('Choose your next position: (1-9) '))\n",
    "        \n",
    "    return position"
   ]
  },
  {
   "cell_type": "code",
   "execution_count": 9,
   "metadata": {},
   "outputs": [],
   "source": [
    "def replay():\n",
    "    play=input(\"If you want to play again:\").lower()\n",
    "    if play==\"yes\":\n",
    "        return True\n",
    "    else:\n",
    "        return False"
   ]
  },
  {
   "cell_type": "code",
   "execution_count": null,
   "metadata": {},
   "outputs": [],
   "source": [
    "print(full_board_check(board))\n",
    "print('Welcome to Tic Tac Toe!')\n",
    "while True:\n",
    "    board=[' '] *10\n",
    "    player_1_marker,Player_2_marker=player_input()\n",
    "    turn=choose_first()\n",
    "    print(turn+\" want to play first\")\n",
    "    play=input(\"Are you ready to play\").lower()\n",
    "    # Set the game up here\n",
    "    game_on=11\n",
    "    #pass\n",
    "    if play==\"yes\":\n",
    "        game_on=True\n",
    "    else:\n",
    "        game_on=False\n",
    "    while game_on:\n",
    "        if turn==\"Player_1\":\n",
    "\n",
    "        #Player 1 Turn\n",
    "            display_board(board)\n",
    "            p_1_position=player_choice(board)\n",
    "            place_marker(board,player_1_marker,p_1_position)\n",
    "            if win_check(board,player_1_marker):\n",
    "\n",
    "                display_board(board)\n",
    "                print(\"Congratuatiuons you won the game\")\n",
    "                game_on=False\n",
    "            else:\n",
    "\n",
    "                if full_board_check(board):\n",
    "                    display_board(board)\n",
    "                    print(\"Game is draw\")\n",
    "                    break\n",
    "                else:\n",
    "                    turn=\"Player_2\"\n",
    "        # Player2's turn.\n",
    "        elif turn==\"Player_2\":\n",
    "\n",
    "            display_board(board)\n",
    "            p_2_position=player_choice(board)\n",
    "            place_marker(board,Player_2_marker,p_2_position)\n",
    "            if win_check(board,Player_2_marker):\n",
    "                display_board(board)\n",
    "                print(\"Player_2 has won the game\")\n",
    "                game_on=False\n",
    "            else:\n",
    "                if full_board_check(board):\n",
    "                    display_board(board)\n",
    "                    print(\"Game is draw\")\n",
    "                    break\n",
    "                else:\n",
    "                    turn=\"Player_1\"\n",
    "\n",
    "    if not replay():\n",
    "        break"
   ]
  }
 ],
 "metadata": {
  "kernelspec": {
   "display_name": "Python 3",
   "language": "python",
   "name": "python3"
  },
  "language_info": {
   "codemirror_mode": {
    "name": "ipython",
    "version": 3
   },
   "file_extension": ".py",
   "mimetype": "text/x-python",
   "name": "python",
   "nbconvert_exporter": "python",
   "pygments_lexer": "ipython3",
   "version": "3.7.6"
  }
 },
 "nbformat": 4,
 "nbformat_minor": 4
}
